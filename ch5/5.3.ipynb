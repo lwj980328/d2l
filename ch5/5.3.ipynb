{
 "cells": [
  {
   "cell_type": "markdown",
   "id": "b4aa10d7",
   "metadata": {},
   "source": [
    "## 延后初始化"
   ]
  },
  {
   "cell_type": "code",
   "execution_count": 2,
   "id": "a504af12",
   "metadata": {},
   "outputs": [],
   "source": [
    "import torch\n",
    "import torch.nn as nn\n",
    "\n",
    "def get_net():\n",
    "    net = nn.Sequential(\n",
    "        nn.LazyLinear(256),\n",
    "        nn.ReLU(),\n",
    "        nn.LazyLinear(10)\n",
    "    )\n",
    "    return net\n",
    "net = get_net()"
   ]
  },
  {
   "cell_type": "code",
   "execution_count": 3,
   "id": "9cd18d59",
   "metadata": {},
   "outputs": [
    {
     "name": "stdout",
     "output_type": "stream",
     "text": [
      "{'0.weight': <UninitializedParameter>, '0.bias': <UninitializedParameter>, '2.weight': <UninitializedParameter>, '2.bias': <UninitializedParameter>}\n"
     ]
    }
   ],
   "source": [
    "print(dict(net.named_parameters()))"
   ]
  },
  {
   "cell_type": "code",
   "execution_count": 4,
   "id": "f9228352",
   "metadata": {},
   "outputs": [
    {
     "name": "stdout",
     "output_type": "stream",
     "text": [
      "Parameters before forward: {'0.weight': <UninitializedParameter>, '0.bias': <UninitializedParameter>, '2.weight': <UninitializedParameter>, '2.bias': <UninitializedParameter>}\n"
     ]
    }
   ],
   "source": [
    "print(\"Parameters before forward:\", dict(net.named_parameters()))"
   ]
  },
  {
   "cell_type": "code",
   "execution_count": 6,
   "id": "690b9cee",
   "metadata": {},
   "outputs": [
    {
     "name": "stdout",
     "output_type": "stream",
     "text": [
      "Parameters after forward:\n",
      "0.weight torch.Size([256, 20])\n",
      "0.bias torch.Size([256])\n",
      "2.weight torch.Size([10, 256])\n",
      "2.bias torch.Size([10])\n"
     ]
    }
   ],
   "source": [
    "X = torch.randn(2,20)\n",
    "output = net(X)\n",
    "print(\"Parameters after forward:\")\n",
    "for name,param in net.named_parameters():\n",
    "    print(name,param.shape)"
   ]
  },
  {
   "cell_type": "code",
   "execution_count": null,
   "id": "cf3f2251",
   "metadata": {},
   "outputs": [],
   "source": []
  }
 ],
 "metadata": {
  "kernelspec": {
   "display_name": "Python (d2l)",
   "language": "python",
   "name": "d2l"
  },
  "language_info": {
   "codemirror_mode": {
    "name": "ipython",
    "version": 3
   },
   "file_extension": ".py",
   "mimetype": "text/x-python",
   "name": "python",
   "nbconvert_exporter": "python",
   "pygments_lexer": "ipython3",
   "version": "3.9.23"
  }
 },
 "nbformat": 4,
 "nbformat_minor": 5
}
