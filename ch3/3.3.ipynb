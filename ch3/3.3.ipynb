{
 "cells": [
  {
   "metadata": {},
   "cell_type": "markdown",
   "source": "## 线性回归的简洁实现",
   "id": "2b400e6846b56946"
  },
  {
   "cell_type": "code",
   "id": "initial_id",
   "metadata": {
    "collapsed": true,
    "ExecuteTime": {
     "end_time": "2025-09-18T12:06:15.776332Z",
     "start_time": "2025-09-18T12:06:12.517044Z"
    }
   },
   "source": [
    "import numpy as np\n",
    "import torch\n",
    "from torch.utils import data\n",
    "from d2l import torch as d2l\n",
    "\n",
    "true_w = torch.tensor([2, -3.4])\n",
    "true_b = 4.2\n",
    "features, labels = d2l.synthetic_data(true_w, true_b, 1000)"
   ],
   "outputs": [],
   "execution_count": 1
  },
  {
   "metadata": {
    "ExecuteTime": {
     "end_time": "2025-09-18T12:09:35.865388Z",
     "start_time": "2025-09-18T12:09:35.860836Z"
    }
   },
   "cell_type": "code",
   "source": [
    "def load_array(data_arrays,batch_size,is_train=True):  #@save\n",
    "    \"\"\"构造一个PyTorch数据迭代器\"\"\"\n",
    "    dataset = data.TensorDataset(*data_arrays)\n",
    "    return data.DataLoader(dataset,batch_size,shuffle=is_train)\n",
    "\n",
    "batch_size = 10\n",
    "data_iter = load_array((features,labels),batch_size)"
   ],
   "id": "46d2eb5fc1016983",
   "outputs": [],
   "execution_count": 3
  },
  {
   "metadata": {
    "ExecuteTime": {
     "end_time": "2025-09-18T12:17:20.605531Z",
     "start_time": "2025-09-18T12:17:20.542873Z"
    }
   },
   "cell_type": "code",
   "source": "next(iter(data_iter))",
   "id": "5d3b1018a8617347",
   "outputs": [
    {
     "data": {
      "text/plain": [
       "[tensor([[-0.7963,  0.7105],\n",
       "         [-0.9078, -0.3842],\n",
       "         [ 1.6724,  0.0110],\n",
       "         [ 0.2609,  0.6028],\n",
       "         [ 2.7292, -0.6480],\n",
       "         [-1.0193, -0.0278],\n",
       "         [ 0.7390,  0.8851],\n",
       "         [ 0.7378, -0.8016],\n",
       "         [-0.1139,  1.0450],\n",
       "         [ 0.4559,  0.8484]]),\n",
       " tensor([[ 0.1959],\n",
       "         [ 3.6877],\n",
       "         [ 7.5043],\n",
       "         [ 2.6628],\n",
       "         [11.8568],\n",
       "         [ 2.2518],\n",
       "         [ 2.6665],\n",
       "         [ 8.3961],\n",
       "         [ 0.4076],\n",
       "         [ 2.2349]])]"
      ]
     },
     "execution_count": 4,
     "metadata": {},
     "output_type": "execute_result"
    }
   ],
   "execution_count": 4
  },
  {
   "metadata": {
    "ExecuteTime": {
     "end_time": "2025-09-18T12:22:17.423481Z",
     "start_time": "2025-09-18T12:22:17.418798Z"
    }
   },
   "cell_type": "code",
   "source": [
    "from torch import nn\n",
    "net = nn.Sequential(nn.Linear(2,1))"
   ],
   "id": "ff8a94e9beb454e8",
   "outputs": [],
   "execution_count": 5
  },
  {
   "metadata": {
    "ExecuteTime": {
     "end_time": "2025-09-18T12:24:06.022336Z",
     "start_time": "2025-09-18T12:24:06.017411Z"
    }
   },
   "cell_type": "code",
   "source": [
    "net[0].weight.data.normal_(0,0.01)\n",
    "net[0].bias.data.fill_(0)"
   ],
   "id": "7ce2bb24fd6d772c",
   "outputs": [
    {
     "data": {
      "text/plain": [
       "tensor([0.])"
      ]
     },
     "execution_count": 6,
     "metadata": {},
     "output_type": "execute_result"
    }
   ],
   "execution_count": 6
  },
  {
   "metadata": {
    "ExecuteTime": {
     "end_time": "2025-09-18T12:25:51.176200Z",
     "start_time": "2025-09-18T12:25:51.172950Z"
    }
   },
   "cell_type": "code",
   "source": "loss = nn.MSELoss()",
   "id": "292631e68ad4897",
   "outputs": [],
   "execution_count": 7
  },
  {
   "metadata": {
    "ExecuteTime": {
     "end_time": "2025-09-18T12:26:40.089823Z",
     "start_time": "2025-09-18T12:26:40.086368Z"
    }
   },
   "cell_type": "code",
   "source": "trainer = torch.optim.SGD(net.parameters(),lr=0.03)",
   "id": "276800160dd0e31f",
   "outputs": [],
   "execution_count": 8
  },
  {
   "metadata": {
    "ExecuteTime": {
     "end_time": "2025-09-18T12:30:07.315941Z",
     "start_time": "2025-09-18T12:30:07.210380Z"
    }
   },
   "cell_type": "code",
   "source": [
    "epochs = 3\n",
    "\n",
    "for epoch in range(epochs):\n",
    "    for X,y in data_iter:\n",
    "        l=loss(net(X),y)\n",
    "        trainer.zero_grad()\n",
    "        l.backward()\n",
    "        trainer.step()\n",
    "    l=loss(net(features),labels)\n",
    "    print(f'epoch {epoch+1}, loss {l:f}')"
   ],
   "id": "ac5491dc43117b27",
   "outputs": [
    {
     "name": "stdout",
     "output_type": "stream",
     "text": [
      "epoch 1, loss 0.000227\n",
      "epoch 2, loss 0.000108\n",
      "epoch 3, loss 0.000107\n"
     ]
    }
   ],
   "execution_count": 9
  },
  {
   "metadata": {
    "ExecuteTime": {
     "end_time": "2025-09-18T12:31:07.708133Z",
     "start_time": "2025-09-18T12:31:07.704262Z"
    }
   },
   "cell_type": "code",
   "source": [
    "w = net[0].weight.data\n",
    "print('w的估计误差:', true_w - w.reshape(true_w.shape))\n",
    "b = net[0].bias.data\n",
    "print('b的估计误差:', true_b - b)"
   ],
   "id": "5e29ea3fc7bd971b",
   "outputs": [
    {
     "name": "stdout",
     "output_type": "stream",
     "text": [
      "w的估计误差: tensor([0.0007, 0.0009])\n",
      "b的估计误差: tensor([0.0012])\n"
     ]
    }
   ],
   "execution_count": 10
  },
  {
   "metadata": {},
   "cell_type": "code",
   "outputs": [],
   "execution_count": null,
   "source": "",
   "id": "6940840fad7b659a"
  }
 ],
 "metadata": {
  "kernelspec": {
   "display_name": "Python 3",
   "language": "python",
   "name": "python3"
  },
  "language_info": {
   "codemirror_mode": {
    "name": "ipython",
    "version": 2
   },
   "file_extension": ".py",
   "mimetype": "text/x-python",
   "name": "python",
   "nbconvert_exporter": "python",
   "pygments_lexer": "ipython2",
   "version": "2.7.6"
  }
 },
 "nbformat": 4,
 "nbformat_minor": 5
}
