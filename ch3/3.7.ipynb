{
 "cells": [
  {
   "metadata": {},
   "cell_type": "markdown",
   "source": "## softmax回归的简洁实现",
   "id": "919fad6fcc245ad6"
  },
  {
   "cell_type": "code",
   "id": "initial_id",
   "metadata": {
    "collapsed": true,
    "ExecuteTime": {
     "end_time": "2025-09-18T13:41:15.960436Z",
     "start_time": "2025-09-18T13:41:15.934105Z"
    }
   },
   "source": [
    "import torch\n",
    "from torch import nn\n",
    "from d2l import torch as d2l\n",
    "\n",
    "batch_size = 256\n",
    "train_iter, test_iter = d2l.load_data_fashion_mnist(batch_size)"
   ],
   "outputs": [],
   "execution_count": 6
  },
  {
   "metadata": {
    "ExecuteTime": {
     "end_time": "2025-09-18T13:41:15.965813Z",
     "start_time": "2025-09-18T13:41:15.961448Z"
    }
   },
   "cell_type": "code",
   "source": [
    "net = nn.Sequential(nn.Flatten(),nn.Linear(784,10))\n",
    "\n",
    "def init_weights(m):\n",
    "    if type(m)==nn.Linear:\n",
    "        nn.init.normal_(m.weight,std=0.01)\n",
    "        \n",
    "net.apply(init_weights);"
   ],
   "id": "28ad630f864513e6",
   "outputs": [],
   "execution_count": 7
  },
  {
   "metadata": {
    "ExecuteTime": {
     "end_time": "2025-09-18T13:41:15.969495Z",
     "start_time": "2025-09-18T13:41:15.965813Z"
    }
   },
   "cell_type": "code",
   "source": "loss = nn.CrossEntropyLoss(reduction='none')",
   "id": "c1b07b401258c332",
   "outputs": [],
   "execution_count": 8
  },
  {
   "metadata": {
    "ExecuteTime": {
     "end_time": "2025-09-18T13:41:15.973889Z",
     "start_time": "2025-09-18T13:41:15.970502Z"
    }
   },
   "cell_type": "code",
   "source": "trainer = torch.optim.SGD(net.parameters(),lr=0.1)",
   "id": "75c0ed31254186e1",
   "outputs": [],
   "execution_count": 9
  },
  {
   "metadata": {
    "ExecuteTime": {
     "end_time": "2025-09-18T13:49:22.291551Z",
     "start_time": "2025-09-18T13:49:22.283822Z"
    }
   },
   "cell_type": "code",
   "source": [
    "num_epochs = 10\n",
    "def train_model(net,train_iter,test_iter,loss,num_epochs,trainer):\n",
    "    for epoch in range(num_epochs):\n",
    "        net.train()\n",
    "        train_loss,train_acc,n = 0.0,0.0,0\n",
    "        \n",
    "        for X,y in train_iter:\n",
    "            trainer.zero_grad()\n",
    "            y_hat = net(X)\n",
    "            l = loss(y_hat,y).mean()\n",
    "            l.backward()\n",
    "            trainer.step()\n",
    "            \n",
    "            train_loss += l.item()*y.shape[0]\n",
    "            train_acc += (y_hat.argmax(dim=1)==y).sum().item()\n",
    "            n += y.shape[0]\n",
    "            \n",
    "        net.eval()\n",
    "        test_acc, test_n = 0.0, 0\n",
    "        with torch.no_grad():\n",
    "            for X, y in test_iter:\n",
    "                y_hat = net(X)\n",
    "                test_acc += (y_hat.argmax(dim=1) == y).sum().item()\n",
    "                test_n += X.shape[0]\n",
    "        \n",
    "        print(f'epoch {epoch + 1}, loss {train_loss/n:.3f}, '\n",
    "              f'train acc {train_acc/n:.3f}, test acc {test_acc/test_n:.3f}')\n"
   ],
   "id": "e6ed28c285acc1d9",
   "outputs": [],
   "execution_count": 13
  },
  {
   "metadata": {
    "ExecuteTime": {
     "end_time": "2025-09-18T13:50:50.961878Z",
     "start_time": "2025-09-18T13:49:25.019539Z"
    }
   },
   "cell_type": "code",
   "source": "train_model(net, train_iter, test_iter, loss, num_epochs, trainer)",
   "id": "48943ee0a8cd2ad7",
   "outputs": [
    {
     "name": "stdout",
     "output_type": "stream",
     "text": [
      "epoch 1, loss 0.783, train acc 0.754, test acc 0.791\n",
      "epoch 2, loss 0.570, train acc 0.813, test acc 0.807\n",
      "epoch 3, loss 0.526, train acc 0.825, test acc 0.813\n",
      "epoch 4, loss 0.501, train acc 0.832, test acc 0.821\n",
      "epoch 5, loss 0.486, train acc 0.837, test acc 0.828\n",
      "epoch 6, loss 0.474, train acc 0.840, test acc 0.818\n",
      "epoch 7, loss 0.465, train acc 0.842, test acc 0.827\n",
      "epoch 8, loss 0.458, train acc 0.845, test acc 0.827\n",
      "epoch 9, loss 0.452, train acc 0.847, test acc 0.821\n",
      "epoch 10, loss 0.448, train acc 0.847, test acc 0.819\n"
     ]
    }
   ],
   "execution_count": 14
  },
  {
   "metadata": {},
   "cell_type": "code",
   "outputs": [],
   "execution_count": null,
   "source": "",
   "id": "4d4fb2d005605e20"
  }
 ],
 "metadata": {
  "kernelspec": {
   "display_name": "Python 3",
   "language": "python",
   "name": "python3"
  },
  "language_info": {
   "codemirror_mode": {
    "name": "ipython",
    "version": 2
   },
   "file_extension": ".py",
   "mimetype": "text/x-python",
   "name": "python",
   "nbconvert_exporter": "python",
   "pygments_lexer": "ipython2",
   "version": "2.7.6"
  }
 },
 "nbformat": 4,
 "nbformat_minor": 5
}
