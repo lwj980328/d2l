{
 "cells": [
  {
   "metadata": {},
   "cell_type": "markdown",
   "source": "## 多层感知机的简洁实现",
   "id": "c389838c11f99113"
  },
  {
   "cell_type": "code",
   "id": "initial_id",
   "metadata": {
    "collapsed": true,
    "ExecuteTime": {
     "end_time": "2025-09-20T13:22:53.440366Z",
     "start_time": "2025-09-20T13:22:50.625265Z"
    }
   },
   "source": [
    "import torch\n",
    "from torch import nn\n",
    "from d2l import torch as d2l"
   ],
   "outputs": [],
   "execution_count": 1
  },
  {
   "metadata": {
    "ExecuteTime": {
     "end_time": "2025-09-20T13:25:58.840630Z",
     "start_time": "2025-09-20T13:25:58.832750Z"
    }
   },
   "cell_type": "code",
   "source": [
    "net = nn.Sequential(nn.Flatten(),\n",
    "                    nn.Linear(784,256),\n",
    "                    nn.ReLU(),\n",
    "                    nn.Linear(256,10))\n",
    "\n",
    "def init_weights(m):\n",
    "    if type(m) == nn.Linear:\n",
    "        nn.init.normal_(m.weight,std=0.01)\n",
    "        \n",
    "net.apply(init_weights);"
   ],
   "id": "cae4dd976872aa6e",
   "outputs": [],
   "execution_count": 2
  },
  {
   "metadata": {
    "ExecuteTime": {
     "end_time": "2025-09-20T13:36:50.359939Z",
     "start_time": "2025-09-20T13:35:41.507376Z"
    }
   },
   "cell_type": "code",
   "source": [
    "batch_size,lr,num_epochs = 256,0.1,10\n",
    "loss = nn.CrossEntropyLoss(reduction='none')\n",
    "trainer = torch.optim.SGD(net.parameters(),lr=lr)\n",
    "\n",
    "trainer_iter,test_iter = d2l.load_data_fashion_mnist(batch_size)\n",
    "def train_model(net,train_iter,test_iter,loss,num_epochs,trainer):\n",
    "    for epoch in range(num_epochs):\n",
    "        train_metric = d2l.train_epoch_ch3(net,train_iter,loss,trainer)\n",
    "        test_acc = d2l.evaluate_accuracy(net,test_iter)\n",
    "        train_loss,train_acc = train_metric\n",
    "        print(f'epoch {epoch+1},loss {train_loss:.3f},train acc {train_acc:.3f},test acc {test_acc:.3f}')\n",
    "train_model(net,trainer_iter,test_iter,loss,num_epochs,trainer)"
   ],
   "id": "2bddec16433b3ddb",
   "outputs": [
    {
     "name": "stderr",
     "output_type": "stream",
     "text": [
      "D:\\Program Files\\miniconda\\envs\\d2l\\lib\\site-packages\\d2l\\torch.py:284: UserWarning: Converting a tensor with requires_grad=True to a scalar may lead to unexpected behavior.\n",
      "Consider using tensor.detach() first. (Triggered internally at C:\\actions-runner\\_work\\pytorch\\pytorch\\pytorch\\torch\\csrc\\autograd\\generated\\python_variable_methods.cpp:836.)\n",
      "  metric.add(float(l.sum()), accuracy(y_hat, y), y.numel())\n"
     ]
    },
    {
     "name": "stdout",
     "output_type": "stream",
     "text": [
      "epoch 1,loss 1.035,train acc 0.645,test acc 0.738\n",
      "epoch 2,loss 0.598,train acc 0.790,test acc 0.791\n",
      "epoch 3,loss 0.521,train acc 0.817,test acc 0.822\n",
      "epoch 4,loss 0.478,train acc 0.833,test acc 0.812\n",
      "epoch 5,loss 0.457,train acc 0.839,test acc 0.819\n",
      "epoch 6,loss 0.436,train acc 0.847,test acc 0.830\n",
      "epoch 7,loss 0.420,train acc 0.853,test acc 0.843\n",
      "epoch 8,loss 0.408,train acc 0.857,test acc 0.835\n",
      "epoch 9,loss 0.396,train acc 0.860,test acc 0.835\n",
      "epoch 10,loss 0.386,train acc 0.864,test acc 0.843\n"
     ]
    }
   ],
   "execution_count": 3
  },
  {
   "metadata": {},
   "cell_type": "code",
   "outputs": [],
   "execution_count": null,
   "source": "",
   "id": "dbddfaa48f3be4e0"
  }
 ],
 "metadata": {
  "kernelspec": {
   "display_name": "Python 3",
   "language": "python",
   "name": "python3"
  },
  "language_info": {
   "codemirror_mode": {
    "name": "ipython",
    "version": 2
   },
   "file_extension": ".py",
   "mimetype": "text/x-python",
   "name": "python",
   "nbconvert_exporter": "python",
   "pygments_lexer": "ipython2",
   "version": "2.7.6"
  }
 },
 "nbformat": 4,
 "nbformat_minor": 5
}
