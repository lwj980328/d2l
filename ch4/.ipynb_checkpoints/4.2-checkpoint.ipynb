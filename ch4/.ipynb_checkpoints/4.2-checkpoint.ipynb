{
 "cells": [
  {
   "metadata": {},
   "cell_type": "markdown",
   "source": "## 多层感知机的从零开始实现",
   "id": "e53db64800c8603e"
  },
  {
   "cell_type": "code",
   "id": "initial_id",
   "metadata": {
    "collapsed": true,
    "ExecuteTime": {
     "end_time": "2025-09-20T11:25:10.264393Z",
     "start_time": "2025-09-20T11:25:02.066459Z"
    }
   },
   "source": [
    "import torch\n",
    "from torch import nn\n",
    "from d2l import torch as d2l\n",
    "\n",
    "batch_size = 256\n",
    "train_iter, test_iter = d2l.load_data_fashion_mnist(batch_size)"
   ],
   "outputs": [],
   "execution_count": 1
  },
  {
   "metadata": {
    "ExecuteTime": {
     "end_time": "2025-09-20T11:25:15.847092Z",
     "start_time": "2025-09-20T11:25:15.805477Z"
    }
   },
   "cell_type": "code",
   "source": [
    "num_inputs, num_outputs, num_hiddens = 784, 10, 256\n",
    "w1 = nn.Parameter(torch.randn(\n",
    "    num_inputs, num_hiddens, requires_grad=True)*0.01)\n",
    "b1 = nn.Parameter(torch.zeros(num_hiddens, requires_grad=True))\n",
    "w2 = nn.Parameter(torch.randn(\n",
    "    num_hiddens, num_outputs, requires_grad=True)*0.01)\n",
    "b2 = nn.Parameter(torch.zeros(num_outputs, requires_grad=True))\n",
    "params = [w1, b1, w2, b2]"
   ],
   "id": "39e9457ea3e5948e",
   "outputs": [],
   "execution_count": 2
  },
  {
   "metadata": {
    "ExecuteTime": {
     "end_time": "2025-09-20T11:25:17.767295Z",
     "start_time": "2025-09-20T11:25:17.753186Z"
    }
   },
   "cell_type": "code",
   "source": [
    "def relu(X):\n",
    "    a = torch.zeros_like(X)\n",
    "    return torch.max(X, a)"
   ],
   "id": "a24a0ecca6920e06",
   "outputs": [],
   "execution_count": 3
  },
  {
   "metadata": {
    "ExecuteTime": {
     "end_time": "2025-09-20T11:25:19.498276Z",
     "start_time": "2025-09-20T11:25:19.491289Z"
    }
   },
   "cell_type": "code",
   "source": [
    "def net(X):\n",
    "    X = X.reshape((-1,num_inputs))\n",
    "    H = relu(X@w1 + b1)\n",
    "    return (H@w2 + b2)"
   ],
   "id": "f2d418485c473f43",
   "outputs": [],
   "execution_count": 4
  },
  {
   "metadata": {
    "ExecuteTime": {
     "end_time": "2025-09-20T11:25:21.294369Z",
     "start_time": "2025-09-20T11:25:21.291290Z"
    }
   },
   "cell_type": "code",
   "source": "loss = nn.CrossEntropyLoss(reduction=\"none\")",
   "id": "e60429b32aead363",
   "outputs": [],
   "execution_count": 5
  },
  {
   "metadata": {},
   "cell_type": "code",
   "source": [
    "num_epochs, lr = 10,0.1\n",
    "updater = torch.optim.SGD(params,lr=lr)\n",
    "d2l.train_ch3(net,train_iter,test_iter,loss,num_epochs,updater)"
   ],
   "id": "50d62adfb235e47e",
   "execution_count": 7,
   "outputs": []
  },
  {
   "metadata": {},
   "cell_type": "code",
   "source": "",
   "id": "c805287543643500",
   "outputs": [],
   "execution_count": null
  }
 ],
 "metadata": {
  "kernelspec": {
   "display_name": "Python 3",
   "language": "python",
   "name": "python3"
  },
  "language_info": {
   "codemirror_mode": {
    "name": "ipython",
    "version": 2
   },
   "file_extension": ".py",
   "mimetype": "text/x-python",
   "name": "python",
   "nbconvert_exporter": "python",
   "pygments_lexer": "ipython2",
   "version": "2.7.6"
  }
 },
 "nbformat": 4,
 "nbformat_minor": 5
}
